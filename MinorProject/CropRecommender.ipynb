{
 "cells": [
  {
   "cell_type": "code",
   "execution_count": 1,
   "metadata": {},
   "outputs": [],
   "source": [
    "import pandas as pd\n",
    "import numpy as np\n",
    "import matplotlib.pyplot as plt\n",
    "import seaborn as sns"
   ]
  },
  {
   "cell_type": "code",
   "execution_count": 2,
   "metadata": {},
   "outputs": [],
   "source": [
    "df = pd.read_csv('CropRecomm/Crop_recommendation.csv')"
   ]
  },
  {
   "cell_type": "code",
   "execution_count": 96,
   "metadata": {},
   "outputs": [
    {
     "data": {
      "text/html": [
       "<div>\n",
       "<style scoped>\n",
       "    .dataframe tbody tr th:only-of-type {\n",
       "        vertical-align: middle;\n",
       "    }\n",
       "\n",
       "    .dataframe tbody tr th {\n",
       "        vertical-align: top;\n",
       "    }\n",
       "\n",
       "    .dataframe thead th {\n",
       "        text-align: right;\n",
       "    }\n",
       "</style>\n",
       "<table border=\"1\" class=\"dataframe\">\n",
       "  <thead>\n",
       "    <tr style=\"text-align: right;\">\n",
       "      <th></th>\n",
       "      <th>N</th>\n",
       "      <th>P</th>\n",
       "      <th>K</th>\n",
       "      <th>temperature</th>\n",
       "      <th>humidity</th>\n",
       "      <th>ph</th>\n",
       "      <th>rainfall</th>\n",
       "      <th>label</th>\n",
       "      <th>label_encoded</th>\n",
       "    </tr>\n",
       "  </thead>\n",
       "  <tbody>\n",
       "    <tr>\n",
       "      <th>2195</th>\n",
       "      <td>107</td>\n",
       "      <td>34</td>\n",
       "      <td>32</td>\n",
       "      <td>26.774637</td>\n",
       "      <td>66.413269</td>\n",
       "      <td>6.780064</td>\n",
       "      <td>177.774507</td>\n",
       "      <td>coffee</td>\n",
       "      <td>5</td>\n",
       "    </tr>\n",
       "    <tr>\n",
       "      <th>2196</th>\n",
       "      <td>99</td>\n",
       "      <td>15</td>\n",
       "      <td>27</td>\n",
       "      <td>27.417112</td>\n",
       "      <td>56.636362</td>\n",
       "      <td>6.086922</td>\n",
       "      <td>127.924610</td>\n",
       "      <td>coffee</td>\n",
       "      <td>5</td>\n",
       "    </tr>\n",
       "    <tr>\n",
       "      <th>2197</th>\n",
       "      <td>118</td>\n",
       "      <td>33</td>\n",
       "      <td>30</td>\n",
       "      <td>24.131797</td>\n",
       "      <td>67.225123</td>\n",
       "      <td>6.362608</td>\n",
       "      <td>173.322839</td>\n",
       "      <td>coffee</td>\n",
       "      <td>5</td>\n",
       "    </tr>\n",
       "    <tr>\n",
       "      <th>2198</th>\n",
       "      <td>117</td>\n",
       "      <td>32</td>\n",
       "      <td>34</td>\n",
       "      <td>26.272418</td>\n",
       "      <td>52.127394</td>\n",
       "      <td>6.758793</td>\n",
       "      <td>127.175293</td>\n",
       "      <td>coffee</td>\n",
       "      <td>5</td>\n",
       "    </tr>\n",
       "    <tr>\n",
       "      <th>2199</th>\n",
       "      <td>104</td>\n",
       "      <td>18</td>\n",
       "      <td>30</td>\n",
       "      <td>23.603016</td>\n",
       "      <td>60.396475</td>\n",
       "      <td>6.779833</td>\n",
       "      <td>140.937041</td>\n",
       "      <td>coffee</td>\n",
       "      <td>5</td>\n",
       "    </tr>\n",
       "  </tbody>\n",
       "</table>\n",
       "</div>"
      ],
      "text/plain": [
       "        N   P   K  temperature   humidity        ph    rainfall   label   \n",
       "2195  107  34  32    26.774637  66.413269  6.780064  177.774507  coffee  \\\n",
       "2196   99  15  27    27.417112  56.636362  6.086922  127.924610  coffee   \n",
       "2197  118  33  30    24.131797  67.225123  6.362608  173.322839  coffee   \n",
       "2198  117  32  34    26.272418  52.127394  6.758793  127.175293  coffee   \n",
       "2199  104  18  30    23.603016  60.396475  6.779833  140.937041  coffee   \n",
       "\n",
       "      label_encoded  \n",
       "2195              5  \n",
       "2196              5  \n",
       "2197              5  \n",
       "2198              5  \n",
       "2199              5  "
      ]
     },
     "execution_count": 96,
     "metadata": {},
     "output_type": "execute_result"
    }
   ],
   "source": [
    "df.tail()"
   ]
  },
  {
   "cell_type": "code",
   "execution_count": 4,
   "metadata": {},
   "outputs": [
    {
     "data": {
      "text/plain": [
       "N              0\n",
       "P              0\n",
       "K              0\n",
       "temperature    0\n",
       "humidity       0\n",
       "ph             0\n",
       "rainfall       0\n",
       "label          0\n",
       "dtype: int64"
      ]
     },
     "execution_count": 4,
     "metadata": {},
     "output_type": "execute_result"
    }
   ],
   "source": [
    "df.isnull().sum()"
   ]
  },
  {
   "cell_type": "code",
   "execution_count": 5,
   "metadata": {},
   "outputs": [
    {
     "name": "stdout",
     "output_type": "stream",
     "text": [
      "<class 'pandas.core.frame.DataFrame'>\n",
      "RangeIndex: 2200 entries, 0 to 2199\n",
      "Data columns (total 8 columns):\n",
      " #   Column       Non-Null Count  Dtype  \n",
      "---  ------       --------------  -----  \n",
      " 0   N            2200 non-null   int64  \n",
      " 1   P            2200 non-null   int64  \n",
      " 2   K            2200 non-null   int64  \n",
      " 3   temperature  2200 non-null   float64\n",
      " 4   humidity     2200 non-null   float64\n",
      " 5   ph           2200 non-null   float64\n",
      " 6   rainfall     2200 non-null   float64\n",
      " 7   label        2200 non-null   object \n",
      "dtypes: float64(4), int64(3), object(1)\n",
      "memory usage: 137.6+ KB\n"
     ]
    }
   ],
   "source": [
    "df.info()"
   ]
  },
  {
   "cell_type": "code",
   "execution_count": 6,
   "metadata": {},
   "outputs": [
    {
     "data": {
      "text/html": [
       "<div>\n",
       "<style scoped>\n",
       "    .dataframe tbody tr th:only-of-type {\n",
       "        vertical-align: middle;\n",
       "    }\n",
       "\n",
       "    .dataframe tbody tr th {\n",
       "        vertical-align: top;\n",
       "    }\n",
       "\n",
       "    .dataframe thead th {\n",
       "        text-align: right;\n",
       "    }\n",
       "</style>\n",
       "<table border=\"1\" class=\"dataframe\">\n",
       "  <thead>\n",
       "    <tr style=\"text-align: right;\">\n",
       "      <th></th>\n",
       "      <th>count</th>\n",
       "      <th>mean</th>\n",
       "      <th>std</th>\n",
       "      <th>min</th>\n",
       "      <th>25%</th>\n",
       "      <th>50%</th>\n",
       "      <th>75%</th>\n",
       "      <th>max</th>\n",
       "    </tr>\n",
       "  </thead>\n",
       "  <tbody>\n",
       "    <tr>\n",
       "      <th>N</th>\n",
       "      <td>2200.0</td>\n",
       "      <td>50.551818</td>\n",
       "      <td>36.917334</td>\n",
       "      <td>0.000000</td>\n",
       "      <td>21.000000</td>\n",
       "      <td>37.000000</td>\n",
       "      <td>84.250000</td>\n",
       "      <td>140.000000</td>\n",
       "    </tr>\n",
       "    <tr>\n",
       "      <th>P</th>\n",
       "      <td>2200.0</td>\n",
       "      <td>53.362727</td>\n",
       "      <td>32.985883</td>\n",
       "      <td>5.000000</td>\n",
       "      <td>28.000000</td>\n",
       "      <td>51.000000</td>\n",
       "      <td>68.000000</td>\n",
       "      <td>145.000000</td>\n",
       "    </tr>\n",
       "    <tr>\n",
       "      <th>K</th>\n",
       "      <td>2200.0</td>\n",
       "      <td>48.149091</td>\n",
       "      <td>50.647931</td>\n",
       "      <td>5.000000</td>\n",
       "      <td>20.000000</td>\n",
       "      <td>32.000000</td>\n",
       "      <td>49.000000</td>\n",
       "      <td>205.000000</td>\n",
       "    </tr>\n",
       "    <tr>\n",
       "      <th>temperature</th>\n",
       "      <td>2200.0</td>\n",
       "      <td>25.616244</td>\n",
       "      <td>5.063749</td>\n",
       "      <td>8.825675</td>\n",
       "      <td>22.769375</td>\n",
       "      <td>25.598693</td>\n",
       "      <td>28.561654</td>\n",
       "      <td>43.675493</td>\n",
       "    </tr>\n",
       "    <tr>\n",
       "      <th>humidity</th>\n",
       "      <td>2200.0</td>\n",
       "      <td>71.481779</td>\n",
       "      <td>22.263812</td>\n",
       "      <td>14.258040</td>\n",
       "      <td>60.261953</td>\n",
       "      <td>80.473146</td>\n",
       "      <td>89.948771</td>\n",
       "      <td>99.981876</td>\n",
       "    </tr>\n",
       "    <tr>\n",
       "      <th>ph</th>\n",
       "      <td>2200.0</td>\n",
       "      <td>6.469480</td>\n",
       "      <td>0.773938</td>\n",
       "      <td>3.504752</td>\n",
       "      <td>5.971693</td>\n",
       "      <td>6.425045</td>\n",
       "      <td>6.923643</td>\n",
       "      <td>9.935091</td>\n",
       "    </tr>\n",
       "    <tr>\n",
       "      <th>rainfall</th>\n",
       "      <td>2200.0</td>\n",
       "      <td>103.463655</td>\n",
       "      <td>54.958389</td>\n",
       "      <td>20.211267</td>\n",
       "      <td>64.551686</td>\n",
       "      <td>94.867624</td>\n",
       "      <td>124.267508</td>\n",
       "      <td>298.560117</td>\n",
       "    </tr>\n",
       "  </tbody>\n",
       "</table>\n",
       "</div>"
      ],
      "text/plain": [
       "              count        mean        std        min        25%        50%   \n",
       "N            2200.0   50.551818  36.917334   0.000000  21.000000  37.000000  \\\n",
       "P            2200.0   53.362727  32.985883   5.000000  28.000000  51.000000   \n",
       "K            2200.0   48.149091  50.647931   5.000000  20.000000  32.000000   \n",
       "temperature  2200.0   25.616244   5.063749   8.825675  22.769375  25.598693   \n",
       "humidity     2200.0   71.481779  22.263812  14.258040  60.261953  80.473146   \n",
       "ph           2200.0    6.469480   0.773938   3.504752   5.971693   6.425045   \n",
       "rainfall     2200.0  103.463655  54.958389  20.211267  64.551686  94.867624   \n",
       "\n",
       "                    75%         max  \n",
       "N             84.250000  140.000000  \n",
       "P             68.000000  145.000000  \n",
       "K             49.000000  205.000000  \n",
       "temperature   28.561654   43.675493  \n",
       "humidity      89.948771   99.981876  \n",
       "ph             6.923643    9.935091  \n",
       "rainfall     124.267508  298.560117  "
      ]
     },
     "execution_count": 6,
     "metadata": {},
     "output_type": "execute_result"
    }
   ],
   "source": [
    "df.describe().transpose()"
   ]
  },
  {
   "cell_type": "code",
   "execution_count": 7,
   "metadata": {},
   "outputs": [
    {
     "data": {
      "text/plain": [
       "array(['rice', 'maize', 'chickpea', 'kidneybeans', 'pigeonpeas',\n",
       "       'mothbeans', 'mungbean', 'blackgram', 'lentil', 'pomegranate',\n",
       "       'banana', 'mango', 'grapes', 'watermelon', 'muskmelon', 'apple',\n",
       "       'orange', 'papaya', 'coconut', 'cotton', 'jute', 'coffee'],\n",
       "      dtype=object)"
      ]
     },
     "execution_count": 7,
     "metadata": {},
     "output_type": "execute_result"
    }
   ],
   "source": [
    "df['label'].unique()"
   ]
  },
  {
   "cell_type": "code",
   "execution_count": 8,
   "metadata": {},
   "outputs": [],
   "source": [
    "from sklearn import preprocessing"
   ]
  },
  {
   "cell_type": "code",
   "execution_count": 9,
   "metadata": {},
   "outputs": [],
   "source": [
    "label_encoder = preprocessing.LabelEncoder()"
   ]
  },
  {
   "cell_type": "code",
   "execution_count": 10,
   "metadata": {},
   "outputs": [],
   "source": [
    "df['label_encoded'] = label_encoder.fit_transform(df['label'])"
   ]
  },
  {
   "cell_type": "code",
   "execution_count": 11,
   "metadata": {},
   "outputs": [
    {
     "data": {
      "text/plain": [
       "array(['rice', 'maize', 'chickpea', 'kidneybeans', 'pigeonpeas',\n",
       "       'mothbeans', 'mungbean', 'blackgram', 'lentil', 'pomegranate',\n",
       "       'banana', 'mango', 'grapes', 'watermelon', 'muskmelon', 'apple',\n",
       "       'orange', 'papaya', 'coconut', 'cotton', 'jute', 'coffee'],\n",
       "      dtype=object)"
      ]
     },
     "execution_count": 11,
     "metadata": {},
     "output_type": "execute_result"
    }
   ],
   "source": [
    "df['label'].unique()"
   ]
  },
  {
   "cell_type": "code",
   "execution_count": 12,
   "metadata": {},
   "outputs": [
    {
     "data": {
      "text/plain": [
       "array([20, 11,  3,  9, 18, 13, 14,  2, 10, 19,  1, 12,  7, 21, 15,  0, 16,\n",
       "       17,  4,  6,  8,  5])"
      ]
     },
     "execution_count": 12,
     "metadata": {},
     "output_type": "execute_result"
    }
   ],
   "source": [
    "df['label_encoded'].unique()"
   ]
  },
  {
   "cell_type": "code",
   "execution_count": 13,
   "metadata": {},
   "outputs": [
    {
     "data": {
      "text/plain": [
       "<Axes: xlabel='label_encoded', ylabel='count'>"
      ]
     },
     "execution_count": 13,
     "metadata": {},
     "output_type": "execute_result"
    },
    {
     "data": {
      "image/png": "[encoded data removed]",
      "text/plain": [
       "<Figure size 720x432 with 1 Axes>"
      ]
     },
     "metadata": {
      "needs_background": "light"
     },
     "output_type": "display_data"
    }
   ],
   "source": [
    "plt.figure(figsize = (10, 6))\n",
    "sns.countplot(x = 'label_encoded', data = df)"
   ]
  },
  {
   "cell_type": "code",
   "execution_count": 14,
   "metadata": {},
   "outputs": [
    {
     "data": {
      "text/html": [
       "<div>\n",
       "<style scoped>\n",
       "    .dataframe tbody tr th:only-of-type {\n",
       "        vertical-align: middle;\n",
       "    }\n",
       "\n",
       "    .dataframe tbody tr th {\n",
       "        vertical-align: top;\n",
       "    }\n",
       "\n",
       "    .dataframe thead th {\n",
       "        text-align: right;\n",
       "    }\n",
       "</style>\n",
       "<table border=\"1\" class=\"dataframe\">\n",
       "  <thead>\n",
       "    <tr style=\"text-align: right;\">\n",
       "      <th></th>\n",
       "      <th>N</th>\n",
       "      <th>P</th>\n",
       "      <th>K</th>\n",
       "      <th>temperature</th>\n",
       "      <th>humidity</th>\n",
       "      <th>ph</th>\n",
       "      <th>rainfall</th>\n",
       "      <th>label_encoded</th>\n",
       "    </tr>\n",
       "  </thead>\n",
       "  <tbody>\n",
       "    <tr>\n",
       "      <th>0</th>\n",
       "      <td>90</td>\n",
       "      <td>42</td>\n",
       "      <td>43</td>\n",
       "      <td>20.879744</td>\n",
       "      <td>82.002744</td>\n",
       "      <td>6.502985</td>\n",
       "      <td>202.935536</td>\n",
       "      <td>20</td>\n",
       "    </tr>\n",
       "    <tr>\n",
       "      <th>1</th>\n",
       "      <td>85</td>\n",
       "      <td>58</td>\n",
       "      <td>41</td>\n",
       "      <td>21.770462</td>\n",
       "      <td>80.319644</td>\n",
       "      <td>7.038096</td>\n",
       "      <td>226.655537</td>\n",
       "      <td>20</td>\n",
       "    </tr>\n",
       "    <tr>\n",
       "      <th>2</th>\n",
       "      <td>60</td>\n",
       "      <td>55</td>\n",
       "      <td>44</td>\n",
       "      <td>23.004459</td>\n",
       "      <td>82.320763</td>\n",
       "      <td>7.840207</td>\n",
       "      <td>263.964248</td>\n",
       "      <td>20</td>\n",
       "    </tr>\n",
       "    <tr>\n",
       "      <th>3</th>\n",
       "      <td>74</td>\n",
       "      <td>35</td>\n",
       "      <td>40</td>\n",
       "      <td>26.491096</td>\n",
       "      <td>80.158363</td>\n",
       "      <td>6.980401</td>\n",
       "      <td>242.864034</td>\n",
       "      <td>20</td>\n",
       "    </tr>\n",
       "    <tr>\n",
       "      <th>4</th>\n",
       "      <td>78</td>\n",
       "      <td>42</td>\n",
       "      <td>42</td>\n",
       "      <td>20.130175</td>\n",
       "      <td>81.604873</td>\n",
       "      <td>7.628473</td>\n",
       "      <td>262.717340</td>\n",
       "      <td>20</td>\n",
       "    </tr>\n",
       "  </tbody>\n",
       "</table>\n",
       "</div>"
      ],
      "text/plain": [
       "    N   P   K  temperature   humidity        ph    rainfall  label_encoded\n",
       "0  90  42  43    20.879744  82.002744  6.502985  202.935536             20\n",
       "1  85  58  41    21.770462  80.319644  7.038096  226.655537             20\n",
       "2  60  55  44    23.004459  82.320763  7.840207  263.964248             20\n",
       "3  74  35  40    26.491096  80.158363  6.980401  242.864034             20\n",
       "4  78  42  42    20.130175  81.604873  7.628473  262.717340             20"
      ]
     },
     "execution_count": 14,
     "metadata": {},
     "output_type": "execute_result"
    }
   ],
   "source": [
    "df.drop(['label'], axis = 1).head()"
   ]
  },
  {
   "cell_type": "code",
   "execution_count": 15,
   "metadata": {},
   "outputs": [],
   "source": [
    "new_df = df.drop(['label'], axis = 1)"
   ]
  },
  {
   "cell_type": "code",
   "execution_count": 16,
   "metadata": {},
   "outputs": [
    {
     "data": {
      "text/plain": [
       "<Axes: >"
      ]
     },
     "execution_count": 16,
     "metadata": {},
     "output_type": "execute_result"
    },
    {
     "data": {
      "image/png": "[encoded data removed]",
      "text/plain": [
       "<Figure size 432x288 with 1 Axes>"
      ]
     },
     "metadata": {
      "needs_background": "light"
     },
     "output_type": "display_data"
    }
   ],
   "source": [
    "new_df.corr()['label_encoded'][ : -1].sort_values().plot(kind = 'bar')"
   ]
  },
  {
   "cell_type": "code",
   "execution_count": 17,
   "metadata": {},
   "outputs": [
    {
     "data": {
      "text/plain": [
       "<Axes: >"
      ]
     },
     "execution_count": 17,
     "metadata": {},
     "output_type": "execute_result"
    },
    {
     "data": {
      "image/png": "[encoded data removed]",
      "text/plain": [
       "<Figure size 720x432 with 2 Axes>"
      ]
     },
     "metadata": {
      "needs_background": "light"
     },
     "output_type": "display_data"
    }
   ],
   "source": [
    "plt.figure(figsize = (10, 6))\n",
    "sns.heatmap(new_df.corr())"
   ]
  },
  {
   "cell_type": "code",
   "execution_count": 18,
   "metadata": {},
   "outputs": [],
   "source": [
    "X = new_df.drop('label_encoded', axis = 1)\n",
    "y = df['label_encoded']"
   ]
  },
  {
   "cell_type": "code",
   "execution_count": 19,
   "metadata": {},
   "outputs": [],
   "source": [
    "from sklearn.model_selection import train_test_split "
   ]
  },
  {
   "cell_type": "code",
   "execution_count": 20,
   "metadata": {},
   "outputs": [],
   "source": [
    "X_train, X_test, y_train, y_test = train_test_split(X, y, test_size = 0.30, random_state = 42)"
   ]
  },
  {
   "cell_type": "code",
   "execution_count": 21,
   "metadata": {},
   "outputs": [],
   "source": [
    "from sklearn.preprocessing import MinMaxScaler"
   ]
  },
  {
   "cell_type": "code",
   "execution_count": 22,
   "metadata": {},
   "outputs": [],
   "source": [
    "scaler = MinMaxScaler()"
   ]
  },
  {
   "cell_type": "code",
   "execution_count": 23,
   "metadata": {},
   "outputs": [],
   "source": [
    "X_train = scaler.fit_transform(X_train)\n",
    "X_test = scaler.transform(X_test)"
   ]
  },
  {
   "cell_type": "code",
   "execution_count": 137,
   "metadata": {},
   "outputs": [],
   "source": [
    "from pickle import dump\n",
    "dump(scaler, open('scaler.pkl', 'wb'))"
   ]
  },
  {
   "cell_type": "code",
   "execution_count": 116,
   "metadata": {},
   "outputs": [
    {
     "data": {
      "text/plain": [
       "array([140.        , 145.        , 205.        ,  43.67549305,\n",
       "        99.98187601,   9.93509073, 298.5601175 ])"
      ]
     },
     "execution_count": 116,
     "metadata": {},
     "output_type": "execute_result"
    }
   ],
   "source": [
    "scaler.data_max_"
   ]
  },
  {
   "cell_type": "code",
   "execution_count": 117,
   "metadata": {},
   "outputs": [
    {
     "data": {
      "text/plain": [
       "array([ 0.        ,  5.        ,  5.        ,  8.82567475, 14.27327988,\n",
       "        3.50475231, 20.36001144])"
      ]
     },
     "execution_count": 117,
     "metadata": {},
     "output_type": "execute_result"
    }
   ],
   "source": [
    "scaler.data_min_"
   ]
  },
  {
   "cell_type": "code",
   "execution_count": 24,
   "metadata": {},
   "outputs": [],
   "source": [
    "from tensorflow.keras.models import Sequential\n",
    "from tensorflow.keras.layers import Dense, Dropout \n",
    "from tensorflow.keras.callbacks import EarlyStopping"
   ]
  },
  {
   "cell_type": "code",
   "execution_count": 25,
   "metadata": {},
   "outputs": [
    {
     "data": {
      "text/plain": [
       "(1540, 7)"
      ]
     },
     "execution_count": 25,
     "metadata": {},
     "output_type": "execute_result"
    }
   ],
   "source": [
    "X_train.shape"
   ]
  },
  {
   "cell_type": "code",
   "execution_count": 26,
   "metadata": {},
   "outputs": [],
   "source": [
    "earlyStop = EarlyStopping(monitor = 'val_loss', mode = 'min', verbose = 1, patience = 10)"
   ]
  },
  {
   "cell_type": "code",
   "execution_count": 27,
   "metadata": {},
   "outputs": [],
   "source": [
    "model = Sequential()\n",
    "\n",
    "model.add(Dense(64, activation = 'relu'))\n",
    "\n",
    "model.add(Dense(32, activation = 'relu'))\n",
    "\n",
    "model.add(Dense(22, activation = 'softmax'))\n",
    "\n",
    "model.compile(loss = 'sparse_categorical_crossentropy', optimizer = 'adam')"
   ]
  },
  {
   "cell_type": "code",
   "execution_count": 28,
   "metadata": {},
   "outputs": [
    {
     "name": "stdout",
     "output_type": "stream",
     "text": [
      "Epoch 1/600\n",
      "49/49 [==============================] - 2s 10ms/step - loss: 3.0395 - val_loss: 2.9755\n",
      "Epoch 2/600\n",
      "49/49 [==============================] - 0s 4ms/step - loss: 2.8671 - val_loss: 2.7733\n",
      "Epoch 3/600\n",
      "49/49 [==============================] - 0s 3ms/step - loss: 2.5891 - val_loss: 2.4444\n",
      "Epoch 4/600\n",
      "49/49 [==============================] - 0s 3ms/step - loss: 2.2030 - val_loss: 2.0287\n",
      "Epoch 5/600\n",
      "49/49 [==============================] - 0s 4ms/step - loss: 1.7932 - val_loss: 1.6775\n",
      "Epoch 6/600\n",
      "49/49 [==============================] - 0s 4ms/step - loss: 1.4521 - val_loss: 1.3613\n",
      "Epoch 7/600\n",
      "49/49 [==============================] - 0s 5ms/step - loss: 1.1925 - val_loss: 1.1303\n",
      "Epoch 8/600\n",
      "49/49 [==============================] - 0s 4ms/step - loss: 1.0101 - val_loss: 0.9760\n",
      "Epoch 9/600\n",
      "49/49 [==============================] - 0s 4ms/step - loss: 0.8763 - val_loss: 0.8656\n",
      "Epoch 10/600\n",
      "49/49 [==============================] - 0s 4ms/step - loss: 0.7737 - val_loss: 0.7665\n",
      "Epoch 11/600\n",
      "49/49 [==============================] - 0s 5ms/step - loss: 0.6966 - val_loss: 0.6983\n",
      "Epoch 12/600\n",
      "49/49 [==============================] - 0s 4ms/step - loss: 0.6232 - val_loss: 0.6370\n",
      "Epoch 13/600\n",
      "49/49 [==============================] - 0s 5ms/step - loss: 0.5714 - val_loss: 0.5912\n",
      "Epoch 14/600\n",
      "49/49 [==============================] - 0s 4ms/step - loss: 0.5256 - val_loss: 0.5407\n",
      "Epoch 15/600\n",
      "49/49 [==============================] - 0s 5ms/step - loss: 0.4839 - val_loss: 0.5343\n",
      "Epoch 16/600\n",
      "49/49 [==============================] - 0s 7ms/step - loss: 0.4525 - val_loss: 0.4729\n",
      "Epoch 17/600\n",
      "49/49 [==============================] - 0s 6ms/step - loss: 0.4205 - val_loss: 0.4444\n",
      "Epoch 18/600\n",
      "49/49 [==============================] - 0s 5ms/step - loss: 0.3895 - val_loss: 0.4443\n",
      "Epoch 19/600\n",
      "49/49 [==============================] - 0s 6ms/step - loss: 0.3682 - val_loss: 0.3982\n",
      "Epoch 20/600\n",
      "49/49 [==============================] - 0s 7ms/step - loss: 0.3490 - val_loss: 0.3805\n",
      "Epoch 21/600\n",
      "49/49 [==============================] - 0s 7ms/step - loss: 0.3251 - val_loss: 0.3600\n",
      "Epoch 22/600\n",
      "49/49 [==============================] - 0s 4ms/step - loss: 0.3073 - val_loss: 0.3405\n",
      "Epoch 23/600\n",
      "49/49 [==============================] - 0s 4ms/step - loss: 0.2937 - val_loss: 0.3213\n",
      "Epoch 24/600\n",
      "49/49 [==============================] - 0s 4ms/step - loss: 0.2736 - val_loss: 0.3098\n",
      "Epoch 25/600\n",
      "49/49 [==============================] - 0s 4ms/step - loss: 0.2664 - val_loss: 0.2990\n",
      "Epoch 26/600\n",
      "49/49 [==============================] - 0s 4ms/step - loss: 0.2506 - val_loss: 0.2922\n",
      "Epoch 27/600\n",
      "49/49 [==============================] - 0s 4ms/step - loss: 0.2381 - val_loss: 0.2815\n",
      "Epoch 28/600\n",
      "49/49 [==============================] - 0s 5ms/step - loss: 0.2298 - val_loss: 0.2647\n",
      "Epoch 29/600\n",
      "49/49 [==============================] - 0s 4ms/step - loss: 0.2182 - val_loss: 0.2579\n",
      "Epoch 30/600\n",
      "49/49 [==============================] - 0s 4ms/step - loss: 0.2084 - val_loss: 0.2402\n",
      "Epoch 31/600\n",
      "49/49 [==============================] - 0s 4ms/step - loss: 0.1974 - val_loss: 0.2346\n",
      "Epoch 32/600\n",
      "49/49 [==============================] - 0s 5ms/step - loss: 0.1903 - val_loss: 0.2259\n",
      "Epoch 33/600\n",
      "49/49 [==============================] - 0s 6ms/step - loss: 0.1834 - val_loss: 0.2168\n",
      "Epoch 34/600\n",
      "49/49 [==============================] - 0s 4ms/step - loss: 0.1788 - val_loss: 0.2167\n",
      "Epoch 35/600\n",
      "49/49 [==============================] - 0s 5ms/step - loss: 0.1713 - val_loss: 0.2039\n",
      "Epoch 36/600\n",
      "49/49 [==============================] - 0s 6ms/step - loss: 0.1624 - val_loss: 0.2035\n",
      "Epoch 37/600\n",
      "49/49 [==============================] - 0s 4ms/step - loss: 0.1577 - val_loss: 0.1909\n",
      "Epoch 38/600\n",
      "49/49 [==============================] - 0s 5ms/step - loss: 0.1539 - val_loss: 0.1951\n",
      "Epoch 39/600\n",
      "49/49 [==============================] - 0s 4ms/step - loss: 0.1504 - val_loss: 0.1837\n",
      "Epoch 40/600\n",
      "49/49 [==============================] - 0s 4ms/step - loss: 0.1399 - val_loss: 0.1765\n",
      "Epoch 41/600\n",
      "49/49 [==============================] - 0s 4ms/step - loss: 0.1378 - val_loss: 0.1788\n",
      "Epoch 42/600\n",
      "49/49 [==============================] - 0s 4ms/step - loss: 0.1339 - val_loss: 0.1694\n",
      "Epoch 43/600\n",
      "49/49 [==============================] - 0s 4ms/step - loss: 0.1274 - val_loss: 0.1633\n",
      "Epoch 44/600\n",
      "49/49 [==============================] - 0s 4ms/step - loss: 0.1250 - val_loss: 0.1705\n",
      "Epoch 45/600\n",
      "49/49 [==============================] - 0s 4ms/step - loss: 0.1240 - val_loss: 0.1534\n",
      "Epoch 46/600\n",
      "49/49 [==============================] - 0s 4ms/step - loss: 0.1179 - val_loss: 0.1590\n",
      "Epoch 47/600\n",
      "49/49 [==============================] - 0s 4ms/step - loss: 0.1160 - val_loss: 0.1528\n",
      "Epoch 48/600\n",
      "49/49 [==============================] - 0s 4ms/step - loss: 0.1129 - val_loss: 0.1500\n",
      "Epoch 49/600\n",
      "49/49 [==============================] - 0s 4ms/step - loss: 0.1079 - val_loss: 0.1485\n",
      "Epoch 50/600\n",
      "49/49 [==============================] - 0s 5ms/step - loss: 0.1081 - val_loss: 0.1411\n",
      "Epoch 51/600\n",
      "49/49 [==============================] - 0s 4ms/step - loss: 0.1050 - val_loss: 0.1347\n",
      "Epoch 52/600\n",
      "49/49 [==============================] - 0s 4ms/step - loss: 0.0977 - val_loss: 0.1360\n",
      "Epoch 53/600\n",
      "49/49 [==============================] - 0s 4ms/step - loss: 0.1027 - val_loss: 0.1311\n",
      "Epoch 54/600\n",
      "49/49 [==============================] - 0s 4ms/step - loss: 0.0956 - val_loss: 0.1289\n",
      "Epoch 55/600\n",
      "49/49 [==============================] - 0s 6ms/step - loss: 0.0941 - val_loss: 0.1415\n",
      "Epoch 56/600\n",
      "49/49 [==============================] - 0s 6ms/step - loss: 0.0924 - val_loss: 0.1392\n",
      "Epoch 57/600\n",
      "49/49 [==============================] - 0s 6ms/step - loss: 0.0915 - val_loss: 0.1239\n",
      "Epoch 58/600\n",
      "49/49 [==============================] - 0s 6ms/step - loss: 0.0883 - val_loss: 0.1212\n",
      "Epoch 59/600\n",
      "49/49 [==============================] - 0s 6ms/step - loss: 0.0871 - val_loss: 0.1212\n",
      "Epoch 60/600\n",
      "49/49 [==============================] - 0s 5ms/step - loss: 0.0824 - val_loss: 0.1220\n",
      "Epoch 61/600\n",
      "49/49 [==============================] - 0s 4ms/step - loss: 0.0830 - val_loss: 0.1294\n",
      "Epoch 62/600\n",
      "49/49 [==============================] - 0s 5ms/step - loss: 0.0822 - val_loss: 0.1093\n",
      "Epoch 63/600\n",
      "49/49 [==============================] - 0s 4ms/step - loss: 0.0799 - val_loss: 0.1237\n",
      "Epoch 64/600\n",
      "49/49 [==============================] - 0s 5ms/step - loss: 0.0797 - val_loss: 0.1106\n",
      "Epoch 65/600\n",
      "49/49 [==============================] - 0s 6ms/step - loss: 0.0730 - val_loss: 0.1232\n",
      "Epoch 66/600\n",
      "49/49 [==============================] - 0s 4ms/step - loss: 0.0794 - val_loss: 0.1161\n",
      "Epoch 67/600\n",
      "49/49 [==============================] - 0s 5ms/step - loss: 0.0735 - val_loss: 0.1054\n",
      "Epoch 68/600\n",
      "49/49 [==============================] - 0s 5ms/step - loss: 0.0764 - val_loss: 0.1031\n",
      "Epoch 69/600\n",
      "49/49 [==============================] - 0s 7ms/step - loss: 0.0716 - val_loss: 0.1007\n",
      "Epoch 70/600\n",
      "49/49 [==============================] - 0s 4ms/step - loss: 0.0689 - val_loss: 0.0987\n",
      "Epoch 71/600\n",
      "49/49 [==============================] - 0s 4ms/step - loss: 0.0703 - val_loss: 0.1063\n",
      "Epoch 72/600\n",
      "49/49 [==============================] - 0s 4ms/step - loss: 0.0666 - val_loss: 0.0989\n",
      "Epoch 73/600\n",
      "49/49 [==============================] - 0s 4ms/step - loss: 0.0662 - val_loss: 0.0928\n",
      "Epoch 74/600\n",
      "49/49 [==============================] - 0s 3ms/step - loss: 0.0650 - val_loss: 0.0969\n",
      "Epoch 75/600\n",
      "49/49 [==============================] - 0s 5ms/step - loss: 0.0643 - val_loss: 0.0958\n",
      "Epoch 76/600\n",
      "49/49 [==============================] - 0s 5ms/step - loss: 0.0623 - val_loss: 0.1121\n",
      "Epoch 77/600\n",
      "49/49 [==============================] - 0s 4ms/step - loss: 0.0638 - val_loss: 0.1009\n",
      "Epoch 78/600\n",
      "49/49 [==============================] - 0s 4ms/step - loss: 0.0617 - val_loss: 0.0905\n",
      "Epoch 79/600\n",
      "49/49 [==============================] - 0s 4ms/step - loss: 0.0605 - val_loss: 0.0898\n",
      "Epoch 80/600\n",
      "49/49 [==============================] - 0s 4ms/step - loss: 0.0610 - val_loss: 0.0919\n",
      "Epoch 81/600\n",
      "49/49 [==============================] - 0s 4ms/step - loss: 0.0582 - val_loss: 0.0871\n",
      "Epoch 82/600\n",
      "49/49 [==============================] - 0s 4ms/step - loss: 0.0609 - val_loss: 0.0939\n",
      "Epoch 83/600\n",
      "49/49 [==============================] - 0s 4ms/step - loss: 0.0597 - val_loss: 0.0902\n",
      "Epoch 84/600\n",
      "49/49 [==============================] - 0s 4ms/step - loss: 0.0555 - val_loss: 0.1022\n",
      "Epoch 85/600\n",
      "49/49 [==============================] - 0s 4ms/step - loss: 0.0576 - val_loss: 0.0925\n",
      "Epoch 86/600\n",
      "49/49 [==============================] - 0s 4ms/step - loss: 0.0568 - val_loss: 0.0920\n",
      "Epoch 87/600\n",
      "49/49 [==============================] - 0s 5ms/step - loss: 0.0532 - val_loss: 0.0879\n",
      "Epoch 88/600\n",
      "49/49 [==============================] - 0s 4ms/step - loss: 0.0532 - val_loss: 0.0839\n",
      "Epoch 89/600\n",
      "49/49 [==============================] - 0s 4ms/step - loss: 0.0505 - val_loss: 0.0832\n",
      "Epoch 90/600\n",
      "49/49 [==============================] - 0s 4ms/step - loss: 0.0541 - val_loss: 0.0891\n",
      "Epoch 91/600\n",
      "49/49 [==============================] - 0s 4ms/step - loss: 0.0541 - val_loss: 0.0852\n",
      "Epoch 92/600\n",
      "49/49 [==============================] - 0s 5ms/step - loss: 0.0522 - val_loss: 0.0828\n",
      "Epoch 93/600\n",
      "49/49 [==============================] - 0s 4ms/step - loss: 0.0492 - val_loss: 0.0819\n",
      "Epoch 94/600\n",
      "49/49 [==============================] - 0s 4ms/step - loss: 0.0509 - val_loss: 0.0826\n",
      "Epoch 95/600\n",
      "49/49 [==============================] - 0s 4ms/step - loss: 0.0477 - val_loss: 0.0779\n",
      "Epoch 96/600\n",
      "49/49 [==============================] - 0s 4ms/step - loss: 0.0484 - val_loss: 0.0933\n",
      "Epoch 97/600\n",
      "49/49 [==============================] - 0s 4ms/step - loss: 0.0500 - val_loss: 0.0791\n",
      "Epoch 98/600\n",
      "49/49 [==============================] - 0s 5ms/step - loss: 0.0475 - val_loss: 0.0763\n",
      "Epoch 99/600\n",
      "49/49 [==============================] - 0s 4ms/step - loss: 0.0517 - val_loss: 0.0761\n",
      "Epoch 100/600\n",
      "49/49 [==============================] - 0s 4ms/step - loss: 0.0456 - val_loss: 0.0747\n",
      "Epoch 101/600\n",
      "49/49 [==============================] - 0s 4ms/step - loss: 0.0455 - val_loss: 0.0771\n",
      "Epoch 102/600\n",
      "49/49 [==============================] - 0s 5ms/step - loss: 0.0454 - val_loss: 0.0821\n",
      "Epoch 103/600\n",
      "49/49 [==============================] - 0s 5ms/step - loss: 0.0474 - val_loss: 0.0778\n",
      "Epoch 104/600\n",
      "49/49 [==============================] - 0s 5ms/step - loss: 0.0437 - val_loss: 0.0880\n",
      "Epoch 105/600\n",
      "49/49 [==============================] - 0s 4ms/step - loss: 0.0485 - val_loss: 0.0741\n",
      "Epoch 106/600\n",
      "49/49 [==============================] - 0s 4ms/step - loss: 0.0443 - val_loss: 0.0797\n",
      "Epoch 107/600\n",
      "49/49 [==============================] - 0s 5ms/step - loss: 0.0428 - val_loss: 0.0710\n",
      "Epoch 108/600\n",
      "49/49 [==============================] - 0s 4ms/step - loss: 0.0447 - val_loss: 0.0779\n",
      "Epoch 109/600\n",
      "49/49 [==============================] - 0s 5ms/step - loss: 0.0399 - val_loss: 0.0770\n",
      "Epoch 110/600\n",
      "49/49 [==============================] - 0s 4ms/step - loss: 0.0419 - val_loss: 0.0761\n",
      "Epoch 111/600\n",
      "49/49 [==============================] - 0s 4ms/step - loss: 0.0400 - val_loss: 0.0686\n",
      "Epoch 112/600\n",
      "49/49 [==============================] - 0s 5ms/step - loss: 0.0406 - val_loss: 0.0683\n",
      "Epoch 113/600\n",
      "49/49 [==============================] - 0s 5ms/step - loss: 0.0496 - val_loss: 0.0675\n",
      "Epoch 114/600\n",
      "49/49 [==============================] - 0s 5ms/step - loss: 0.0402 - val_loss: 0.0722\n",
      "Epoch 115/600\n",
      "49/49 [==============================] - 0s 5ms/step - loss: 0.0416 - val_loss: 0.0686\n",
      "Epoch 116/600\n",
      "49/49 [==============================] - 0s 4ms/step - loss: 0.0395 - val_loss: 0.0692\n",
      "Epoch 117/600\n",
      "49/49 [==============================] - 0s 4ms/step - loss: 0.0390 - val_loss: 0.0766\n",
      "Epoch 118/600\n",
      "49/49 [==============================] - 0s 4ms/step - loss: 0.0408 - val_loss: 0.0771\n",
      "Epoch 119/600\n",
      "49/49 [==============================] - 0s 4ms/step - loss: 0.0382 - val_loss: 0.0717\n",
      "Epoch 120/600\n",
      "49/49 [==============================] - 0s 5ms/step - loss: 0.0407 - val_loss: 0.0793\n",
      "Epoch 121/600\n",
      "49/49 [==============================] - 0s 4ms/step - loss: 0.0353 - val_loss: 0.0739\n",
      "Epoch 122/600\n",
      "49/49 [==============================] - 0s 4ms/step - loss: 0.0451 - val_loss: 0.0679\n",
      "Epoch 123/600\n",
      "49/49 [==============================] - 0s 4ms/step - loss: 0.0373 - val_loss: 0.0730\n",
      "Epoch 123: early stopping\n"
     ]
    },
    {
     "data": {
      "text/plain": [
       "<keras.callbacks.History at 0x27869661690>"
      ]
     },
     "execution_count": 28,
     "metadata": {},
     "output_type": "execute_result"
    }
   ],
   "source": [
    "model.fit(x = X_train, y = y_train, epochs = 600, validation_data = (X_test, y_test), callbacks = [earlyStop])"
   ]
  },
  {
   "cell_type": "code",
   "execution_count": 29,
   "metadata": {},
   "outputs": [],
   "source": [
    "from keras.models import load_model\n",
    "model.save('CropRecommend.h5')"
   ]
  },
  {
   "cell_type": "code",
   "execution_count": 30,
   "metadata": {},
   "outputs": [],
   "source": [
    "losses = pd.DataFrame(model.history.history)"
   ]
  },
  {
   "cell_type": "code",
   "execution_count": 31,
   "metadata": {},
   "outputs": [
    {
     "data": {
      "text/html": [
       "<div>\n",
       "<style scoped>\n",
       "    .dataframe tbody tr th:only-of-type {\n",
       "        vertical-align: middle;\n",
       "    }\n",
       "\n",
       "    .dataframe tbody tr th {\n",
       "        vertical-align: top;\n",
       "    }\n",
       "\n",
       "    .dataframe thead th {\n",
       "        text-align: right;\n",
       "    }\n",
       "</style>\n",
       "<table border=\"1\" class=\"dataframe\">\n",
       "  <thead>\n",
       "    <tr style=\"text-align: right;\">\n",
       "      <th></th>\n",
       "      <th>loss</th>\n",
       "      <th>val_loss</th>\n",
       "    </tr>\n",
       "  </thead>\n",
       "  <tbody>\n",
       "    <tr>\n",
       "      <th>0</th>\n",
       "      <td>3.039456</td>\n",
       "      <td>2.975533</td>\n",
       "    </tr>\n",
       "    <tr>\n",
       "      <th>1</th>\n",
       "      <td>2.867071</td>\n",
       "      <td>2.773322</td>\n",
       "    </tr>\n",
       "    <tr>\n",
       "      <th>2</th>\n",
       "      <td>2.589062</td>\n",
       "      <td>2.444403</td>\n",
       "    </tr>\n",
       "    <tr>\n",
       "      <th>3</th>\n",
       "      <td>2.202966</td>\n",
       "      <td>2.028703</td>\n",
       "    </tr>\n",
       "    <tr>\n",
       "      <th>4</th>\n",
       "      <td>1.793210</td>\n",
       "      <td>1.677548</td>\n",
       "    </tr>\n",
       "    <tr>\n",
       "      <th>...</th>\n",
       "      <td>...</td>\n",
       "      <td>...</td>\n",
       "    </tr>\n",
       "    <tr>\n",
       "      <th>118</th>\n",
       "      <td>0.038179</td>\n",
       "      <td>0.071694</td>\n",
       "    </tr>\n",
       "    <tr>\n",
       "      <th>119</th>\n",
       "      <td>0.040738</td>\n",
       "      <td>0.079294</td>\n",
       "    </tr>\n",
       "    <tr>\n",
       "      <th>120</th>\n",
       "      <td>0.035310</td>\n",
       "      <td>0.073930</td>\n",
       "    </tr>\n",
       "    <tr>\n",
       "      <th>121</th>\n",
       "      <td>0.045141</td>\n",
       "      <td>0.067905</td>\n",
       "    </tr>\n",
       "    <tr>\n",
       "      <th>122</th>\n",
       "      <td>0.037335</td>\n",
       "      <td>0.072952</td>\n",
       "    </tr>\n",
       "  </tbody>\n",
       "</table>\n",
       "<p>123 rows × 2 columns</p>\n",
       "</div>"
      ],
      "text/plain": [
       "         loss  val_loss\n",
       "0    3.039456  2.975533\n",
       "1    2.867071  2.773322\n",
       "2    2.589062  2.444403\n",
       "3    2.202966  2.028703\n",
       "4    1.793210  1.677548\n",
       "..        ...       ...\n",
       "118  0.038179  0.071694\n",
       "119  0.040738  0.079294\n",
       "120  0.035310  0.073930\n",
       "121  0.045141  0.067905\n",
       "122  0.037335  0.072952\n",
       "\n",
       "[123 rows x 2 columns]"
      ]
     },
     "execution_count": 31,
     "metadata": {},
     "output_type": "execute_result"
    }
   ],
   "source": [
    "losses"
   ]
  },
  {
   "cell_type": "code",
   "execution_count": 32,
   "metadata": {},
   "outputs": [
    {
     "data": {
      "text/plain": [
       "<seaborn.axisgrid.FacetGrid at 0x2785253d8d0>"
      ]
     },
     "execution_count": 32,
     "metadata": {},
     "output_type": "execute_result"
    },
    {
     "data": {
      "image/png": "[encoded data removed]",
      "text/plain": [
       "<Figure size 360x360 with 1 Axes>"
      ]
     },
     "metadata": {
      "needs_background": "light"
     },
     "output_type": "display_data"
    }
   ],
   "source": [
    "sns.relplot(x = losses['loss'], y = losses['val_loss'], kind = 'line')"
   ]
  },
  {
   "cell_type": "code",
   "execution_count": 33,
   "metadata": {},
   "outputs": [
    {
     "data": {
      "text/plain": [
       "<seaborn.axisgrid.JointGrid at 0x27974fee620>"
      ]
     },
     "execution_count": 33,
     "metadata": {},
     "output_type": "execute_result"
    },
    {
     "data": {
      "image/png": "[encoded data removed]",
      "text/plain": [
       "<Figure size 432x432 with 3 Axes>"
      ]
     },
     "metadata": {
      "needs_background": "light"
     },
     "output_type": "display_data"
    }
   ],
   "source": [
    "sns.jointplot(x = 'loss', y = 'val_loss', data = losses)"
   ]
  },
  {
   "cell_type": "code",
   "execution_count": 34,
   "metadata": {},
   "outputs": [
    {
     "data": {
      "text/plain": [
       "<Axes: >"
      ]
     },
     "execution_count": 34,
     "metadata": {},
     "output_type": "execute_result"
    },
    {
     "data": {
      "image/png": "[encoded data removed]",
      "text/plain": [
       "<Figure size 432x288 with 1 Axes>"
      ]
     },
     "metadata": {
      "needs_background": "light"
     },
     "output_type": "display_data"
    }
   ],
   "source": [
    "losses.plot()"
   ]
  },
  {
   "cell_type": "code",
   "execution_count": 35,
   "metadata": {},
   "outputs": [
    {
     "name": "stdout",
     "output_type": "stream",
     "text": [
      "21/21 [==============================] - 0s 1ms/step\n"
     ]
    }
   ],
   "source": [
    "predictions = (model.predict(X_test) > 0.5).astype(\"int32\")"
   ]
  },
  {
   "cell_type": "code",
   "execution_count": 36,
   "metadata": {},
   "outputs": [],
   "source": [
    "from sklearn.metrics import classification_report, confusion_matrix "
   ]
  },
  {
   "cell_type": "code",
   "execution_count": 37,
   "metadata": {},
   "outputs": [],
   "source": [
    "new_predictions = np.argmax(predictions, axis=1)"
   ]
  },
  {
   "cell_type": "code",
   "execution_count": 38,
   "metadata": {},
   "outputs": [
    {
     "data": {
      "text/plain": [
       "array([15, 21, 17, 17,  0, 12,  0, 13, 14, 10,  2,  4, 19,  8,  4, 19,  0,\n",
       "        6, 17, 15,  5, 17, 16, 17,  3,  8, 14, 16, 18, 20, 19, 10,  8, 10,\n",
       "        8,  2,  8,  3,  3,  9, 17, 12,  2, 11, 14, 11, 18,  4, 15, 11,  2,\n",
       "        5,  7, 14,  5,  9,  6,  0,  1, 10, 21,  4, 10, 16, 17,  2, 16, 20,\n",
       "       15, 18, 15,  4,  8,  1,  2, 17,  1,  6, 21, 16,  5,  3,  8, 13, 16,\n",
       "       12,  5, 13,  2, 19, 11, 13,  6, 17, 18, 13,  9,  5,  2, 10,  4,  8,\n",
       "       16, 15, 21,  9, 21,  1, 18, 13,  1,  8,  6, 19, 18,  3, 11,  4, 19,\n",
       "       20, 18,  7,  2,  4,  3,  2,  4, 11,  1, 13,  1,  9, 19,  3,  4, 16,\n",
       "       18,  1,  1,  0,  9, 15, 14, 13,  4, 11,  0,  4,  9, 13, 14, 10, 21,\n",
       "       14, 18, 18, 18,  9, 11,  8,  3,  0, 16,  6, 20,  4,  7, 10, 21,  7,\n",
       "        7,  2, 19,  3,  4, 11, 10,  7, 21,  8,  5,  5,  9,  8, 13,  9,  1,\n",
       "        9,  4, 17, 17, 14, 12, 19, 21,  9, 11,  0,  2,  3,  7,  7,  1,  6,\n",
       "       20, 19, 14,  1,  8, 14, 11,  3,  3,  3,  0, 20,  9, 17,  5,  2,  9,\n",
       "       12, 12,  4, 17,  0,  3, 19,  3, 15,  0, 15, 15, 12, 12,  6,  4, 19,\n",
       "       20, 15,  5, 17, 10, 11, 12, 15, 18, 14,  5,  7,  4,  6, 18, 20,  0,\n",
       "       19,  5,  3,  6,  8, 12,  1, 17,  0,  3, 20, 18, 13, 14,  8, 19,  7,\n",
       "       13, 17, 11,  4, 11,  3,  1,  8,  4,  5, 12, 15,  0,  1, 18,  2, 16,\n",
       "        3, 21,  1,  0,  3,  5, 18, 16,  0,  4, 17, 21, 13, 20,  3, 19,  3,\n",
       "       17, 10,  0, 19,  3, 12,  3, 19, 21,  9, 14, 15, 21,  9, 15, 12,  8,\n",
       "        2,  3,  1, 10, 18, 17,  9, 14,  4,  6,  7,  0, 10,  1,  8,  0, 19,\n",
       "        0, 14, 15,  5,  5, 18,  8,  9,  1, 11,  8, 11, 18, 12,  9, 19, 21,\n",
       "        2, 11, 20, 13,  9, 12,  6, 17, 13,  6, 14, 16, 20,  2, 14,  5,  1,\n",
       "       18, 17,  0, 19, 11, 12,  4,  0, 10,  8, 13, 10,  4,  2,  8, 14,  6,\n",
       "       21,  0,  7,  4,  7, 21, 20, 12, 12,  5, 19,  1,  7,  8, 16,  6, 12,\n",
       "       17, 15, 13,  8,  3, 13, 19, 21, 13,  6, 17, 21, 10, 20,  4, 13, 13,\n",
       "       11, 20, 11,  4, 16, 19,  9, 21, 14,  2, 20, 20,  6,  6, 18, 16,  2,\n",
       "       10,  1, 12, 11,  0, 19, 12,  6, 14, 18,  3,  0,  5, 18,  8,  8,  8,\n",
       "       17, 10,  7,  8, 16, 14, 12,  9,  7, 14, 16, 18,  1,  8, 18, 19,  5,\n",
       "       15,  2, 17, 17, 19,  9,  3, 14, 14, 12, 18, 15, 12, 13, 18, 15, 20,\n",
       "       19, 15, 18,  0, 14,  8,  9,  0, 20, 12, 17, 13,  6, 19, 18, 17, 10,\n",
       "       11,  3, 15,  6,  9,  3, 14,  5,  5, 16, 21, 16,  7,  5, 18, 12,  0,\n",
       "       12, 19,  5, 18,  5,  7,  6, 19, 17,  0,  2, 18, 21, 17,  2,  7, 10,\n",
       "        8,  5, 17,  3,  5,  8, 13, 19, 17, 18,  0,  9, 16, 13, 20, 14, 21,\n",
       "       19,  4,  4,  8, 19,  9, 13,  8,  9, 20, 13, 17, 19, 16,  3,  8, 19,\n",
       "        6, 13, 14,  7, 14, 10,  6,  9, 12, 15,  9, 16, 18, 11,  8,  5,  6,\n",
       "       11, 10,  9, 19, 17, 20, 18, 15, 14,  9, 11,  8,  9,  3,  6, 13,  0,\n",
       "       17, 19,  6, 12,  7, 12,  5,  5,  6, 13,  4,  4,  4,  0, 16, 12, 12,\n",
       "       16,  1,  0,  7,  2,  9,  7,  6, 10,  1, 13,  0,  8, 10,  5, 16, 10,\n",
       "        2,  1,  9, 19,  8, 17, 10,  4,  9,  9, 13, 17,  3, 21],\n",
       "      dtype=int64)"
      ]
     },
     "execution_count": 38,
     "metadata": {},
     "output_type": "execute_result"
    }
   ],
   "source": [
    "new_predictions"
   ]
  },
  {
   "cell_type": "code",
   "execution_count": 39,
   "metadata": {},
   "outputs": [
    {
     "data": {
      "text/plain": [
       "1451    15\n",
       "1334    21\n",
       "1761    17\n",
       "1735    17\n",
       "1576     0\n",
       "        ..\n",
       "398      9\n",
       "584     13\n",
       "1702    17\n",
       "292      3\n",
       "1344    21\n",
       "Name: label_encoded, Length: 660, dtype: int32"
      ]
     },
     "execution_count": 39,
     "metadata": {},
     "output_type": "execute_result"
    }
   ],
   "source": [
    "y_test"
   ]
  },
  {
   "cell_type": "code",
   "execution_count": 40,
   "metadata": {},
   "outputs": [
    {
     "name": "stdout",
     "output_type": "stream",
     "text": [
      "              precision    recall  f1-score   support\n",
      "\n",
      "           0       1.00      1.00      1.00        34\n",
      "           1       1.00      1.00      1.00        26\n",
      "           2       0.96      0.92      0.94        26\n",
      "           3       1.00      1.00      1.00        34\n",
      "           4       1.00      1.00      1.00        33\n",
      "           5       0.97      1.00      0.98        30\n",
      "           6       0.97      1.00      0.98        28\n",
      "           7       1.00      1.00      1.00        23\n",
      "           8       0.79      0.91      0.85        34\n",
      "           9       0.97      1.00      0.99        36\n",
      "          10       0.81      0.95      0.88        22\n",
      "          11       1.00      0.96      0.98        26\n",
      "          12       1.00      1.00      1.00        32\n",
      "          13       0.97      0.91      0.94        34\n",
      "          14       1.00      1.00      1.00        30\n",
      "          15       1.00      1.00      1.00        24\n",
      "          16       1.00      1.00      1.00        25\n",
      "          17       0.97      0.97      0.97        37\n",
      "          18       1.00      0.95      0.97        37\n",
      "          19       1.00      1.00      1.00        38\n",
      "          20       0.91      0.71      0.80        28\n",
      "          21       1.00      1.00      1.00        23\n",
      "\n",
      "    accuracy                           0.97       660\n",
      "   macro avg       0.97      0.97      0.97       660\n",
      "weighted avg       0.97      0.97      0.97       660\n",
      "\n"
     ]
    }
   ],
   "source": [
    "print(classification_report(y_test, new_predictions))"
   ]
  },
  {
   "cell_type": "code",
   "execution_count": 41,
   "metadata": {},
   "outputs": [
    {
     "name": "stdout",
     "output_type": "stream",
     "text": [
      "[[34  0  0  0  0  0  0  0  0  0  0  0  0  0  0  0  0  0  0  0  0  0]\n",
      " [ 0 26  0  0  0  0  0  0  0  0  0  0  0  0  0  0  0  0  0  0  0  0]\n",
      " [ 0  0 24  0  0  0  0  0  0  0  2  0  0  0  0  0  0  0  0  0  0  0]\n",
      " [ 0  0  0 34  0  0  0  0  0  0  0  0  0  0  0  0  0  0  0  0  0  0]\n",
      " [ 0  0  0  0 33  0  0  0  0  0  0  0  0  0  0  0  0  0  0  0  0  0]\n",
      " [ 0  0  0  0  0 30  0  0  0  0  0  0  0  0  0  0  0  0  0  0  0  0]\n",
      " [ 0  0  0  0  0  0 28  0  0  0  0  0  0  0  0  0  0  0  0  0  0  0]\n",
      " [ 0  0  0  0  0  0  0 23  0  0  0  0  0  0  0  0  0  0  0  0  0  0]\n",
      " [ 0  0  0  0  0  1  0  0 31  0  0  0  0  0  0  0  0  1  0  0  1  0]\n",
      " [ 0  0  0  0  0  0  0  0  0 36  0  0  0  0  0  0  0  0  0  0  0  0]\n",
      " [ 0  0  0  0  0  0  0  0  0  0 21  0  0  1  0  0  0  0  0  0  0  0]\n",
      " [ 0  0  0  0  0  0  1  0  0  0  0 25  0  0  0  0  0  0  0  0  0  0]\n",
      " [ 0  0  0  0  0  0  0  0  0  0  0  0 32  0  0  0  0  0  0  0  0  0]\n",
      " [ 0  0  0  0  0  0  0  0  0  0  3  0  0 31  0  0  0  0  0  0  0  0]\n",
      " [ 0  0  0  0  0  0  0  0  0  0  0  0  0  0 30  0  0  0  0  0  0  0]\n",
      " [ 0  0  0  0  0  0  0  0  0  0  0  0  0  0  0 24  0  0  0  0  0  0]\n",
      " [ 0  0  0  0  0  0  0  0  0  0  0  0  0  0  0  0 25  0  0  0  0  0]\n",
      " [ 0  0  0  0  0  0  0  0  0  0  0  0  0  0  0  0  0 36  0  0  1  0]\n",
      " [ 0  0  1  0  0  0  0  0  0  1  0  0  0  0  0  0  0  0 35  0  0  0]\n",
      " [ 0  0  0  0  0  0  0  0  0  0  0  0  0  0  0  0  0  0  0 38  0  0]\n",
      " [ 0  0  0  0  0  0  0  0  8  0  0  0  0  0  0  0  0  0  0  0 20  0]\n",
      " [ 0  0  0  0  0  0  0  0  0  0  0  0  0  0  0  0  0  0  0  0  0 23]]\n"
     ]
    }
   ],
   "source": [
    "print(confusion_matrix(y_test, new_predictions))"
   ]
  },
  {
   "cell_type": "code",
   "execution_count": 80,
   "metadata": {},
   "outputs": [],
   "source": [
    "from keras.models import load_model\n",
    "model_final = load_model('CropRecommend.h5')"
   ]
  },
  {
   "cell_type": "code",
   "execution_count": 97,
   "metadata": {},
   "outputs": [],
   "source": [
    "helper = {\n",
    "        0 : 'Apple',\n",
    "        1 : 'Banana',\n",
    "        2 : 'Blackgram',\n",
    "        3 : 'Chickpea',\n",
    "        4 : 'Coconut',\n",
    "        5 : 'Coffee',\n",
    "        6 : 'Cotton',\n",
    "        7 : 'Grapes',\n",
    "        8 : 'Jute',\n",
    "        9 : 'KidneyBeans',\n",
    "        10 : 'Lentil',\n",
    "        11 : 'Maize',\n",
    "        12 : 'Mango',\n",
    "        13 : 'Mothbeans',\n",
    "        14 : 'Mungbean',\n",
    "        15 : 'Muskmelon',\n",
    "        16 : 'Orange',\n",
    "        17 : 'Papaya',\n",
    "        18 : 'Pigeonpeas',\n",
    "        19 : 'Pomegranate',\n",
    "        20 : 'Rice',\n",
    "        21 : 'Watermelon',\n",
    "}"
   ]
  },
  {
   "cell_type": "code",
   "execution_count": 132,
   "metadata": {},
   "outputs": [],
   "source": [
    "# from sklearn.preprocessing import MinMaxScaler\n",
    "def predicter(data):\n",
    "    # scaler = MinMaxScaler()\n",
    "    # data = data.reshape(-1, 7)\n",
    "    scaledData = scaler.transform(data)\n",
    "    predictedData = (model.predict(scaledData) > 0.5).astype(\"int32\")\n",
    "    output = np.argmax(predictedData, axis=1)\n",
    "    if int(output) in helper:\n",
    "        print(helper[int(output)])\n",
    "    else:\n",
    "        print(\"Error! Enter valid inputs!\")"
   ]
  },
  {
   "cell_type": "code",
   "execution_count": 133,
   "metadata": {},
   "outputs": [
    {
     "name": "stdout",
     "output_type": "stream",
     "text": [
      "1/1 [==============================] - 0s 24ms/step\n",
      "Rice\n"
     ]
    },
    {
     "name": "stderr",
     "output_type": "stream",
     "text": [
      "c:\\Users\\subhr\\AppData\\Local\\Programs\\Python\\Python310\\lib\\site-packages\\sklearn\\base.py:439: UserWarning: X does not have valid feature names, but MinMaxScaler was fitted with feature names\n",
      "  warnings.warn(\n"
     ]
    }
   ],
   "source": [
    "data = np.array([[90, 42, 43, 20.879744, 82.002744, 6.502985, 202.935536]])\n",
    "predicter(data)"
   ]
  },
  {
   "cell_type": "code",
   "execution_count": 134,
   "metadata": {},
   "outputs": [
    {
     "name": "stdout",
     "output_type": "stream",
     "text": [
      "1/1 [==============================] - 0s 41ms/step\n",
      "Coffee\n"
     ]
    },
    {
     "name": "stderr",
     "output_type": "stream",
     "text": [
      "c:\\Users\\subhr\\AppData\\Local\\Programs\\Python\\Python310\\lib\\site-packages\\sklearn\\base.py:439: UserWarning: X does not have valid feature names, but MinMaxScaler was fitted with feature names\n",
      "  warnings.warn(\n"
     ]
    }
   ],
   "source": [
    "data = np.array([[104, 18, 30, 23.603016, 60.396475, 6.779833, 140.937041]])\n",
    "predicter(data)"
   ]
  }
 ],
 "metadata": {
  "kernelspec": {
   "display_name": "Python 3",
   "language": "python",
   "name": "python3"
  },
  "language_info": {
   "codemirror_mode": {
    "name": "ipython",
    "version": 3
   },
   "file_extension": ".py",
   "mimetype": "text/x-python",
   "name": "python",
   "nbconvert_exporter": "python",
   "pygments_lexer": "ipython3",
   "version": "3.10.6"
  },
  "orig_nbformat": 4
 },
 "nbformat": 4,
 "nbformat_minor": 2
}
