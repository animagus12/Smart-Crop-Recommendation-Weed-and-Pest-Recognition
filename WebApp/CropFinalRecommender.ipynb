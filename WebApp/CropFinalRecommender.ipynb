{
 "cells": [
  {
   "cell_type": "code",
   "execution_count": 1,
   "metadata": {},
   "outputs": [],
   "source": [
    "import numpy as np"
   ]
  },
  {
   "cell_type": "code",
   "execution_count": 2,
   "metadata": {},
   "outputs": [],
   "source": [
    "from keras.models import load_model\n",
    "model = load_model('CropRecommend.h5')"
   ]
  },
  {
   "cell_type": "code",
   "execution_count": 3,
   "metadata": {},
   "outputs": [],
   "source": [
    "from pickle import load\n",
    "scaler = load(open('scaler.pkl', 'rb'))"
   ]
  },
  {
   "cell_type": "code",
   "execution_count": 4,
   "metadata": {},
   "outputs": [],
   "source": [
    "helper = {\n",
    "        0 : 'Apple',\n",
    "        1 : 'Banana',\n",
    "        2 : 'Blackgram',\n",
    "        3 : 'Chickpea',\n",
    "        4 : 'Coconut',\n",
    "        5 : 'Coffee',\n",
    "        6 : 'Cotton',\n",
    "        7 : 'Grapes',\n",
    "        8 : 'Jute',\n",
    "        9 : 'KidneyBeans',\n",
    "        10 : 'Lentil',\n",
    "        11 : 'Maize',\n",
    "        12 : 'Mango',\n",
    "        13 : 'Mothbeans',\n",
    "        14 : 'Mungbean',\n",
    "        15 : 'Muskmelon',\n",
    "        16 : 'Orange',\n",
    "        17 : 'Papaya',\n",
    "        18 : 'Pigeonpeas',\n",
    "        19 : 'Pomegranate',\n",
    "        20 : 'Rice',\n",
    "        21 : 'Watermelon',\n",
    "}"
   ]
  },
  {
   "cell_type": "code",
   "execution_count": 8,
   "metadata": {},
   "outputs": [],
   "source": [
    "def predicter(data):\n",
    "    data = data.reshape(-1, 7)\n",
    "    scaledData = scaler.transform(data)\n",
    "    predictedData = (model.predict(scaledData) > 0.5).astype(\"int32\")\n",
    "    output = np.argmax(predictedData, axis=1)\n",
    "    if int(output) in helper:\n",
    "        print(helper[int(output)])\n",
    "    else:\n",
    "        print(\"Error! Enter valid inputs!\")"
   ]
  },
  {
   "cell_type": "code",
   "execution_count": 9,
   "metadata": {},
   "outputs": [
    {
     "name": "stdout",
     "output_type": "stream",
     "text": [
      "1/1 [==============================] - 0s 22ms/step\n",
      "Rice\n"
     ]
    },
    {
     "name": "stderr",
     "output_type": "stream",
     "text": [
      "c:\\Users\\subhr\\AppData\\Local\\Programs\\Python\\Python310\\lib\\site-packages\\sklearn\\base.py:439: UserWarning: X does not have valid feature names, but MinMaxScaler was fitted with feature names\n",
      "  warnings.warn(\n"
     ]
    }
   ],
   "source": [
    "data = np.array((90, 42, 43, 20.879744, 82.002744, 6.502985, 202.935536))\n",
    "predicter(data)"
   ]
  },
  {
   "cell_type": "code",
   "execution_count": 10,
   "metadata": {},
   "outputs": [
    {
     "name": "stdout",
     "output_type": "stream",
     "text": [
      "1/1 [==============================] - 0s 38ms/step\n",
      "Coffee\n"
     ]
    },
    {
     "name": "stderr",
     "output_type": "stream",
     "text": [
      "c:\\Users\\subhr\\AppData\\Local\\Programs\\Python\\Python310\\lib\\site-packages\\sklearn\\base.py:439: UserWarning: X does not have valid feature names, but MinMaxScaler was fitted with feature names\n",
      "  warnings.warn(\n"
     ]
    }
   ],
   "source": [
    "data = np.array((104, 18, 30, 23.603016, 60.396475, 6.779833, 140.937041))\n",
    "predicter(data)"
   ]
  }
 ],
 "metadata": {
  "kernelspec": {
   "display_name": "tf",
   "language": "python",
   "name": "python3"
  },
  "language_info": {
   "codemirror_mode": {
    "name": "ipython",
    "version": 3
   },
   "file_extension": ".py",
   "mimetype": "text/x-python",
   "name": "python",
   "nbconvert_exporter": "python",
   "pygments_lexer": "ipython3",
   "version": "3.11.1"
  },
  "orig_nbformat": 4
 },
 "nbformat": 4,
 "nbformat_minor": 2
}
