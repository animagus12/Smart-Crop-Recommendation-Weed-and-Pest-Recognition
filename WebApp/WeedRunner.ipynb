{
 "cells": [
  {
   "cell_type": "code",
   "execution_count": 22,
   "metadata": {},
   "outputs": [],
   "source": [
    "import numpy as np\n",
    "import tensorflow as tf\n",
    "from tensorflow.keras.models import load_model\n",
    "import cv2"
   ]
  },
  {
   "cell_type": "code",
   "execution_count": 24,
   "metadata": {},
   "outputs": [],
   "source": [
    "weeds = {\n",
    "    0: \"Black-grass\",\n",
    "    1: \"Charlock\",\n",
    "    2: \"Cleavers\",\n",
    "    3: \"Common Chickweed\",\n",
    "    4: \"Common wheat\",\n",
    "    5: \"Fat Hen\",\n",
    "    6: \"Loose Silky-bent\",\n",
    "    7: \"Maize\",\n",
    "    8: \"Scentless Mayweed\",\n",
    "    9: \"Shepherd's Purse\",\n",
    "    10: \"Small-flowered Cranesbill\",\n",
    "    11: \"Sugar beet\",\n",
    "}"
   ]
  },
  {
   "cell_type": "code",
   "execution_count": 25,
   "metadata": {},
   "outputs": [
    {
     "name": "stdout",
     "output_type": "stream",
     "text": [
      "Model loaded. Check http://127.0.0.1:5000/\n"
     ]
    }
   ],
   "source": [
    "# Load the model\n",
    "model = load_model('WeedModel.hdf5')\n",
    "print('Model loaded. Check http://127.0.0.1:5000/')"
   ]
  },
  {
   "cell_type": "code",
   "execution_count": 26,
   "metadata": {},
   "outputs": [],
   "source": [
    "def WeedRecog(img):\n",
    "    resize = tf.image.resize(img, (380, 380))\n",
    "    yhat = model.predict(np.expand_dims(resize / 255, 0))\n",
    "    yhat = np.argmax(yhat, axis = 1)\n",
    "    if yhat[0] in weeds.keys():\n",
    "        return weeds[yhat[0]]"
   ]
  },
  {
   "cell_type": "code",
   "execution_count": 27,
   "metadata": {},
   "outputs": [
    {
     "name": "stdout",
     "output_type": "stream",
     "text": [
      "1/1 [==============================] - 0s 202ms/step\n"
     ]
    }
   ],
   "source": [
    "img = cv2.imread('testing/cleavers.jpg')\n",
    "pred = WeedRecog(img)"
   ]
  },
  {
   "cell_type": "code",
   "execution_count": 28,
   "metadata": {},
   "outputs": [
    {
     "data": {
      "text/plain": [
       "'Charlock'"
      ]
     },
     "execution_count": 28,
     "metadata": {},
     "output_type": "execute_result"
    }
   ],
   "source": [
    "pred"
   ]
  }
 ],
 "metadata": {
  "kernelspec": {
   "display_name": "Python 3",
   "language": "python",
   "name": "python3"
  },
  "language_info": {
   "codemirror_mode": {
    "name": "ipython",
    "version": 3
   },
   "file_extension": ".py",
   "mimetype": "text/x-python",
   "name": "python",
   "nbconvert_exporter": "python",
   "pygments_lexer": "ipython3",
   "version": "3.11.1"
  },
  "orig_nbformat": 4
 },
 "nbformat": 4,
 "nbformat_minor": 2
}
